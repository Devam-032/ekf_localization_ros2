{
 "cells": [
  {
   "cell_type": "code",
   "execution_count": 2,
   "metadata": {},
   "outputs": [
    {
     "name": "stdout",
     "output_type": "stream",
     "text": [
      "[[0.]\n",
      " [1.]\n",
      " [2.]\n",
      " [0.]] (4, 1)\n"
     ]
    }
   ],
   "source": [
    "import numpy as np\n",
    "mu_bar = np.zeros((4,1))\n",
    "mu_bar[:3,:] = np.array([\n",
    "            [0],\n",
    "            [1],\n",
    "            [2]\n",
    "        ])\n",
    "\n",
    "print(mu_bar,np.shape(mu_bar))"
   ]
  },
  {
   "cell_type": "code",
   "execution_count": 3,
   "metadata": {},
   "outputs": [
    {
     "name": "stdout",
     "output_type": "stream",
     "text": [
      "[[ 1.  0. -1.]\n",
      " [ 0.  1.  1.]\n",
      " [ 0.  0.  1.]]\n"
     ]
    }
   ],
   "source": [
    "G_t = np.eye(3)\n",
    "G_t[:3,:3] = np.array([\n",
    "            [1 , 0  , -1],\n",
    "            [0 , 1 , 1],\n",
    "            [0 , 0, 1]\n",
    "        ])\n",
    "print(G_t)"
   ]
  },
  {
   "cell_type": "code",
   "execution_count": 4,
   "metadata": {},
   "outputs": [
    {
     "name": "stdout",
     "output_type": "stream",
     "text": [
      "Final covariance matrix:\n",
      "[[1]\n",
      " [2]\n",
      " [3]]\n",
      "3\n",
      "Rows: 3 Columns: 1\n",
      "3\n"
     ]
    }
   ],
   "source": [
    "covariance_bar = np.array([[4, 2], [2, 3]])\n",
    "k_gain = np.array([[0.5, 0.1], [0.2, 0.3]])\n",
    "H_t_mat = np.array([[1, 0], [0, 1]])\n",
    "Identity = np.eye(covariance_bar.shape[0])\n",
    "final_covariance = np.array([\n",
    "    [1],\n",
    "    [2],\n",
    "    [3]\n",
    "])\n",
    "# final_covariance = np.dot((Identity - np.dot(k_gain, H_t_mat)), covariance_bar)\n",
    "row, column = np.shape(final_covariance)\n",
    "\n",
    "print(\"Final covariance matrix:\")\n",
    "print(final_covariance)\n",
    "print(np.shape(final_covariance)[0])\n",
    "print(\"Rows:\", row, \"Columns:\", column)\n",
    "print(final_covariance[2][0])\n"
   ]
  },
  {
   "cell_type": "code",
   "execution_count": 5,
   "metadata": {},
   "outputs": [
    {
     "name": "stdout",
     "output_type": "stream",
     "text": [
      "[[0 0 0 0 0 0 0 0 0 0]\n",
      " [0 0 0 0 0 0 0 0 0 0]]\n"
     ]
    }
   ],
   "source": [
    "alpha = np.array([[0]*10,[0]*10])\n",
    "print(alpha)"
   ]
  },
  {
   "cell_type": "code",
   "execution_count": 6,
   "metadata": {},
   "outputs": [
    {
     "name": "stdout",
     "output_type": "stream",
     "text": [
      "[[0.]\n",
      " [0.]\n",
      " [0.]]\n"
     ]
    }
   ],
   "source": [
    "alpha = np.zeros((3,1))\n",
    "print(alpha)"
   ]
  },
  {
   "cell_type": "code",
   "execution_count": null,
   "metadata": {},
   "outputs": [
    {
     "name": "stdout",
     "output_type": "stream",
     "text": [
      "[[[[ 1  2]\n",
      "   [ 3  4]]\n",
      "\n",
      "  [[ 5  6]\n",
      "   [ 7  8]]]\n",
      "\n",
      "\n",
      " [[[ 9 10]\n",
      "   [11 12]]\n",
      "\n",
      "  [[13 14]\n",
      "   [15 16]]]]\n"
     ]
    }
   ],
   "source": [
    "a = np.array([[1,2],[3,4]])\n",
    "b = np.array([[5,6],[7,8]])\n",
    "c = np.array([[9,10],[11,12]])\n",
    "d = np.array([[13,14],[15,16]])\n",
    "\n",
    "e  = np.array([[a,b],[c,d]])\n",
    "print(e)\n"
   ]
  },
  {
   "cell_type": "code",
   "execution_count": 10,
   "metadata": {},
   "outputs": [
    {
     "name": "stdout",
     "output_type": "stream",
     "text": [
      "[[1. 0. 0. 0. 0. 0. 0. 0. 0. 0. 0. 0. 0. 0. 0. 0. 0. 0. 0. 0. 0. 0. 0.]\n",
      " [0. 1. 0. 0. 0. 0. 0. 0. 0. 0. 0. 0. 0. 0. 0. 0. 0. 0. 0. 0. 0. 0. 0.]\n",
      " [0. 0. 1. 0. 0. 0. 0. 0. 0. 0. 0. 0. 0. 0. 0. 0. 0. 0. 0. 0. 0. 0. 0.]]\n"
     ]
    }
   ],
   "source": [
    "total_landmarks = 10\n",
    "F_x = np.zeros((3,3+2*total_landmarks))\n",
    "F_x[:3,:3] = np.eye(3,3)\n",
    "print(F_x)"
   ]
  }
 ],
 "metadata": {
  "kernelspec": {
   "display_name": "Python 3",
   "language": "python",
   "name": "python3"
  },
  "language_info": {
   "codemirror_mode": {
    "name": "ipython",
    "version": 3
   },
   "file_extension": ".py",
   "mimetype": "text/x-python",
   "name": "python",
   "nbconvert_exporter": "python",
   "pygments_lexer": "ipython3",
   "version": "3.10.12"
  }
 },
 "nbformat": 4,
 "nbformat_minor": 2
}
