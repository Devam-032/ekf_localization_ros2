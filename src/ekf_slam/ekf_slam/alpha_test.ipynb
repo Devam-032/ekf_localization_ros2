{
 "cells": [
  {
   "cell_type": "code",
   "execution_count": null,
   "metadata": {},
   "outputs": [
    {
     "name": "stdout",
     "output_type": "stream",
     "text": [
      "[[0]\n",
      " [1]\n",
      " [2]\n",
      " [4]] (4, 1)\n"
     ]
    }
   ],
   "source": [
    "import numpy as np\n",
    "mu_bar = np.zeros((3,1))\n",
    "mu_bar[:3] = np.array([\n",
    "            [0],\n",
    "            [1],\n",
    "            [2]\n",
    "        ])\n",
    "\n",
    "print(mu_bar,np.shape(mu_bar))"
   ]
  },
  {
   "cell_type": "code",
   "execution_count": null,
   "metadata": {},
   "outputs": [
    {
     "name": "stdout",
     "output_type": "stream",
     "text": [
      "[[ 1.  0. -1.]\n",
      " [ 0.  1.  1.]\n",
      " [ 0.  0.  1.]]\n"
     ]
    }
   ],
   "source": [
    "G_t = np.eye(3)\n",
    "G_t[:3,:3] = np.array([\n",
    "            [1 , 0  , -1],\n",
    "            [0 , 1 , 1],\n",
    "            [0 , 0, 1]\n",
    "        ])\n",
    "print(G_t)"
   ]
  },
  {
   "cell_type": "code",
   "execution_count": 5,
   "metadata": {},
   "outputs": [
    {
     "name": "stdout",
     "output_type": "stream",
     "text": [
      "Final covariance matrix:\n",
      "[[1.8 0.7]\n",
      " [0.6 1.7]]\n",
      "Rows: 2 Columns: 2\n"
     ]
    }
   ],
   "source": [
    "covariance_bar = np.array([[4, 2], [2, 3]])\n",
    "k_gain = np.array([[0.5, 0.1], [0.2, 0.3]])\n",
    "H_t_mat = np.array([[1, 0], [0, 1]])\n",
    "Identity = np.eye(covariance_bar.shape[0])\n",
    "\n",
    "final_covariance = np.dot((Identity - np.dot(k_gain, H_t_mat)), covariance_bar)\n",
    "row, column = np.shape(final_covariance)\n",
    "\n",
    "print(\"Final covariance matrix:\")\n",
    "print(final_covariance)\n",
    "print(\"Rows:\", row, \"Columns:\", column)\n"
   ]
  }
 ],
 "metadata": {
  "kernelspec": {
   "display_name": "Python 3",
   "language": "python",
   "name": "python3"
  },
  "language_info": {
   "codemirror_mode": {
    "name": "ipython",
    "version": 3
   },
   "file_extension": ".py",
   "mimetype": "text/x-python",
   "name": "python",
   "nbconvert_exporter": "python",
   "pygments_lexer": "ipython3",
   "version": "3.10.12"
  }
 },
 "nbformat": 4,
 "nbformat_minor": 2
}
