{
 "cells": [
  {
   "cell_type": "code",
   "execution_count": 5,
   "metadata": {},
   "outputs": [
    {
     "name": "stdout",
     "output_type": "stream",
     "text": [
      "[[0]\n",
      " [1]\n",
      " [2]\n",
      " [4]] (4, 1)\n"
     ]
    }
   ],
   "source": [
    "import numpy as np\n",
    "mu_bar = np.array([[0],[0],[0],[4]])\n",
    "G_t = np.eye(3)\n",
    "mu_bar[:3] = np.array([\n",
    "            [0],\n",
    "            [1],\n",
    "            [2]\n",
    "        ])\n",
    "\n",
    "print(mu_bar,np.shape(mu_bar))"
   ]
  },
  {
   "cell_type": "code",
   "execution_count": 6,
   "metadata": {},
   "outputs": [
    {
     "name": "stdout",
     "output_type": "stream",
     "text": [
      "[[ 1.  0. -1.]\n",
      " [ 0.  1.  1.]\n",
      " [ 0.  0.  1.]]\n"
     ]
    }
   ],
   "source": [
    "G_t[:3,:3] = np.array([\n",
    "            [1 , 0  , -1],\n",
    "            [0 , 1 , 1],\n",
    "            [0 , 0, 1]\n",
    "        ])\n",
    "print(G_t)"
   ]
  }
 ],
 "metadata": {
  "kernelspec": {
   "display_name": "Python 3",
   "language": "python",
   "name": "python3"
  },
  "language_info": {
   "codemirror_mode": {
    "name": "ipython",
    "version": 3
   },
   "file_extension": ".py",
   "mimetype": "text/x-python",
   "name": "python",
   "nbconvert_exporter": "python",
   "pygments_lexer": "ipython3",
   "version": "3.10.12"
  }
 },
 "nbformat": 4,
 "nbformat_minor": 2
}
